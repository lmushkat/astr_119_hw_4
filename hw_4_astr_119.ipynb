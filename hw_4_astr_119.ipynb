{
 "cells": [
  {
   "cell_type": "markdown",
   "metadata": {},
   "source": [
    "# Using Trapezoid rule: f(x)=e2xcos(10x)"
   ]
  },
  {
   "cell_type": "code",
   "execution_count": null,
   "metadata": {},
   "outputs": [],
   "source": [
    "%matplotlib inline\n",
    "import numpy as np\n",
    "import matplotlib.pyplot as plt"
   ]
  },
  {
   "cell_type": "markdown",
   "metadata": {},
   "source": [
    "defining my function:"
   ]
  },
  {
   "cell_type": "code",
   "execution_count": null,
   "metadata": {},
   "outputs": [],
   "source": [
    "def func(x):\n",
    "    a=2\n",
    "    b=10\n",
    "    return np.e**(a*x) * np.cos(b*x)"
   ]
  },
  {
   "cell_type": "markdown",
   "metadata": {},
   "source": [
    "find the integral "
   ]
  },
  {
   "cell_type": "code",
   "execution_count": null,
   "metadata": {},
   "outputs": [],
   "source": [
    "def func_integral(x):\n",
    "    a=2\n",
    "    b=10\n",
    "    \n",
    "    return (np.e**(a*x))/52 *(5*np.sin(b*x)+np.cos(b*x)) "
   ]
  },
  {
   "cell_type": "code",
   "execution_count": null,
   "metadata": {},
   "outputs": [],
   "source": [
    "def trapezoid_core(f,x,h):\n",
    "    return 0.5*h*(f(x+h)+f(x))"
   ]
  },
  {
   "cell_type": "code",
   "execution_count": null,
   "metadata": {},
   "outputs": [],
   "source": [
    "def trapezoid_method(f,a,b,N):\n",
    "    #f===function to integrate\n",
    "    #a===lower limit of integration\n",
    "    #b===upper limit of integration\n",
    "    #N===number of function evaluations to use\n",
    "    \n",
    "    #define x values to perform trap rule\n",
    "    x = np.linspace(a,b,N)\n",
    "    h = x[1]-x[0]\n",
    "    \n",
    "    #define the value of the integral\n",
    "    Fint = 0.0\n",
    "    \n",
    "    #perform the integral using the trapezoid method\n",
    "    for i in range(0,len(x)-1,1):\n",
    "        Fint += trapezoid_core(f,x[i],h)\n",
    "\n",
    "        \n",
    "    #return the answer\n",
    "    return Fint"
   ]
  },
  {
   "cell_type": "code",
   "execution_count": null,
   "metadata": {},
   "outputs": [],
   "source": [
    "def simpson_core(f,x,h):\n",
    "    return h*( f(x) + 4*f(x+h) + f(x+2*h))/3"
   ]
  },
  {
   "cell_type": "code",
   "execution_count": null,
   "metadata": {},
   "outputs": [],
   "source": [
    "def simpsons_method(f,a,b,N):\n",
    "    #f===function to integrate\n",
    "    #a===lower limit of integration\n",
    "    #b===upper limit of integration\n",
    "    #N===number of function evaluations to use\n",
    "    #note the number of chunks will be N-1\n",
    "    #if N odd --> then we dont need to adjust the last segment\n",
    "    \n",
    "    #define x values to perform simps rule\n",
    "    x = np.linspace(a,b,N)\n",
    "    h = x[1]-x[0]\n",
    "    \n",
    "    #define the value of the integral\n",
    "    Fint = 0.0\n",
    "    \n",
    "    #perform the integral using the trapezoid method\n",
    "    for i in range(0,len(x)-2,2):\n",
    "        Fint += simpson_core(f,x[i],h)\n",
    "        \n",
    "    #apply simps rule over last interval if N even\n",
    "    if ((N%2)==0):\n",
    "        Fint +=simpson_core(f,x[-2], 0.5*h)\n",
    "        \n",
    "    #return the answer\n",
    "    return Fint"
   ]
  },
  {
   "cell_type": "code",
   "execution_count": null,
   "metadata": {},
   "outputs": [],
   "source": [
    "def romberg_core(f,a,b,i):\n",
    "    \n",
    "    #we need the difference b-a\n",
    "    h = b-a\n",
    "    \n",
    "    #and the increment between new fuc evals\n",
    "    dh = h/2.**(i)\n",
    "    \n",
    "    #we need the cofactor\n",
    "    K = h/2.**(i+1)\n",
    "    \n",
    "    #and the function evals\n",
    "    M = 0.0\n",
    "    for j in range(2**i):\n",
    "        M += f(a + 0.5*dh + j*dh)\n",
    "        \n",
    "    #return the answer\n",
    "    return K*M"
   ]
  },
  {
   "cell_type": "code",
   "execution_count": null,
   "metadata": {},
   "outputs": [],
   "source": [
    "def romberg_integration(f,a,b,tol):\n",
    "    \n",
    "    #define an iteration variable\n",
    "    i = 0\n",
    "    \n",
    "    #define a max # of iterations\n",
    "    imax=1000\n",
    "    \n",
    "    #define an error estimate, set to a large value\n",
    "    delta = 100.0*np.fabs(tol)\n",
    "    \n",
    "    #set an array of integral answers\n",
    "    I = np.zeros(imax,dtype=float)\n",
    "    \n",
    "    #get the zeroth romber iteration\n",
    "    I[0] = 0.5*(b-a)*(f(a)+f(b))\n",
    "    \n",
    "    #iterate by 1\n",
    "    i += 1\n",
    "    \n",
    "    while(delta>tol):\n",
    "        \n",
    "        #find this romberg iteration\n",
    "        I[i] = 0.5*I[i-1]+romberg_core(f,a,b,i)\n",
    "        \n",
    "        #compute new fractional error estimate\n",
    "        delta=np.fabs( (I[i]-I[i-1])/I[i])\n",
    "        \n",
    "        print(i,I[i],I[i-1],delta)\n",
    "        \n",
    "        if(delta>tol):\n",
    "            \n",
    "            i+=1\n",
    "            \n",
    "            if(i>imax):\n",
    "                print(\"max iterations reached\")\n",
    "                raise StopIteration('stopping iterations after',i)\n",
    "    \n",
    "    return I[i]"
   ]
  },
  {
   "cell_type": "code",
   "execution_count": null,
   "metadata": {},
   "outputs": [],
   "source": [
    "Answer = func_integral(np.pi)-func_integral(0)\n",
    "print(Answer)\n",
    "print(\"Trapezoid\")\n",
    "N = 2\n",
    "tolerance = True\n",
    "\n",
    "while(tolerance):\n",
    "    if(np.absolute(trapezoid_method(func,0,np.pi,N)-Answer)<1.0e-6):\n",
    "        tolerance= False\n",
    "    N+=16\n",
    "print(N)\n",
    "print(trapezoid_method(func,0,np.pi,N))\n",
    "print(\"Simpson's Method\")\n",
    "N = 3\n",
    "tolerance = True\n",
    "\n",
    "while(tolerance):\n",
    "    if(np.absolute(simpsons_method(func,0,np.pi,N)-Answer)<1.0e-6):\n",
    "        tolerance= False\n",
    "    N+=1\n",
    "print(N)\n",
    "print(simpsons_method(func,0,np.pi,N))\n",
    "print(\"Romberg\")\n",
    "tolerance = 1.0e-6\n",
    "RI=romberg_integration(func,0,np.pi,tolerance)\n",
    "print(RI, (RI-Answer)/Answer, tolerance)"
   ]
  },
  {
   "cell_type": "markdown",
   "metadata": {},
   "source": [
    "### It takes 23 iterations or Romberg integration to achieve the accuracy requested. It takes 29,682 intervals to achieve the level of accuracy. The takes 646 intervals to achieve the level of accuracy.\n"
   ]
  },
  {
   "cell_type": "code",
   "execution_count": null,
   "metadata": {},
   "outputs": [],
   "source": []
  },
  {
   "cell_type": "code",
   "execution_count": null,
   "metadata": {},
   "outputs": [],
   "source": []
  }
 ],
 "metadata": {
  "kernelspec": {
   "display_name": "Python 3",
   "language": "python",
   "name": "python3"
  },
  "language_info": {
   "codemirror_mode": {
    "name": "ipython",
    "version": 3
   },
   "file_extension": ".py",
   "mimetype": "text/x-python",
   "name": "python",
   "nbconvert_exporter": "python",
   "pygments_lexer": "ipython3",
   "version": "3.7.0"
  }
 },
 "nbformat": 4,
 "nbformat_minor": 2
}
